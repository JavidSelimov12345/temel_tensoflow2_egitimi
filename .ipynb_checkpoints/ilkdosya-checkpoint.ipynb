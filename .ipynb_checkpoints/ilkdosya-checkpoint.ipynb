{
 "cells": [
  {
   "cell_type": "code",
   "execution_count": 10,
   "metadata": {},
   "outputs": [],
   "source": [
    "import urllib.request\n",
    "import re\n",
    "import io"
   ]
  },
  {
   "cell_type": "code",
   "execution_count": 48,
   "metadata": {},
   "outputs": [],
   "source": [
    "import json\n"
   ]
  },
  {
   "cell_type": "code",
   "execution_count": 20,
   "metadata": {},
   "outputs": [],
   "source": [
    "menu_elemanlari = [\"1722\", \"1711\", \"1723\", \"1715\"]"
   ]
  },
  {
   "cell_type": "code",
   "execution_count": 26,
   "metadata": {},
   "outputs": [
    {
     "name": "stdout",
     "output_type": "stream",
     "text": [
      "{\"items\":[{\"id\":2526,\"level\":1,\"parentId\":1722,\"categoryId\":\"\",\"title\":\"Sanal Grup\",\"url\":null,\"prio\n",
      "https://www.hepsiburada.com/navigation/1722\n",
      "{\"items\":[{\"id\":1726,\"level\":1,\"parentId\":1711,\"categoryId\":\"2147483646\",\"title\":\"Bilgisayar/Tablet\"\n",
      "https://www.hepsiburada.com/navigation/1711\n",
      "{\"items\":[{\"id\":2528,\"level\":1,\"parentId\":1723,\"categoryId\":\"\",\"title\":\"Sanal Grup\",\"url\":null,\"prio\n",
      "https://www.hepsiburada.com/navigation/1723\n",
      "{\"items\":[{\"id\":2470,\"level\":1,\"parentId\":1715,\"categoryId\":\"\",\"title\":\"Sanal Grup\",\"url\":null,\"prio\n",
      "https://www.hepsiburada.com/navigation/1715\n"
     ]
    }
   ],
   "source": [
    "for menu_elemani in menu_elemanlari:\n",
    "    url = \"https://www.hepsiburada.com/navigation/\" + menu_elemani\n",
    "    istek = urllib.request.Request(url)\n",
    "    try:\n",
    "        cevap = urllib.request.urlopen(istek)\n",
    "        htmlBytes = cevap.read()\n",
    "        htmlStr = htmlBytes.decode(\"utf8\")\n",
    "        print(htmlStr[0:100])\n",
    "    except:\n",
    "        print(\"hata oluştu bağlantı gerçekleşmedi\")\n",
    "    print(url)"
   ]
  },
  {
   "cell_type": "code",
   "execution_count": null,
   "metadata": {},
   "outputs": [],
   "source": []
  },
  {
   "cell_type": "code",
   "execution_count": null,
   "metadata": {},
   "outputs": [],
   "source": []
  },
  {
   "cell_type": "code",
   "execution_count": null,
   "metadata": {},
   "outputs": [],
   "source": []
  },
  {
   "cell_type": "code",
   "execution_count": 50,
   "metadata": {},
   "outputs": [],
   "source": [
    "url = \"https://www.hepsiburada.com/navigation/1722\""
   ]
  },
  {
   "cell_type": "code",
   "execution_count": 51,
   "metadata": {},
   "outputs": [],
   "source": [
    "istek = urllib.request.Request(url)"
   ]
  },
  {
   "cell_type": "code",
   "execution_count": 52,
   "metadata": {},
   "outputs": [],
   "source": [
    "try:\n",
    "    cevap = urllib.request.urlopen(istek)\n",
    "except:\n",
    "    print(\"hata oluştu bağlantı gerçekleşmedi\")"
   ]
  },
  {
   "cell_type": "code",
   "execution_count": 53,
   "metadata": {},
   "outputs": [
    {
     "data": {
      "text/plain": [
       "<http.client.HTTPResponse at 0x11175a690>"
      ]
     },
     "execution_count": 53,
     "metadata": {},
     "output_type": "execute_result"
    }
   ],
   "source": [
    "cevap"
   ]
  },
  {
   "cell_type": "code",
   "execution_count": 54,
   "metadata": {},
   "outputs": [],
   "source": [
    "htmlBytes = cevap.read()\n",
    "htmlStr = htmlBytes.decode(\"utf8\")"
   ]
  },
  {
   "cell_type": "code",
   "execution_count": 55,
   "metadata": {},
   "outputs": [
    {
     "data": {
      "text/plain": [
       "'{\"items\":[{\"id\":2526,\"level\":1,\"parentId\":1722,\"categoryId\":\"\",\"title\":\"Sanal Grup\",\"url\":null,\"prio'"
      ]
     },
     "execution_count": 55,
     "metadata": {},
     "output_type": "execute_result"
    }
   ],
   "source": [
    "htmlStr[0:100]"
   ]
  },
  {
   "cell_type": "code",
   "execution_count": 68,
   "metadata": {},
   "outputs": [],
   "source": [
    "json_cevap = json.loads(htmlStr)"
   ]
  },
  {
   "cell_type": "code",
   "execution_count": null,
   "metadata": {},
   "outputs": [],
   "source": []
  },
  {
   "cell_type": "code",
   "execution_count": null,
   "metadata": {},
   "outputs": [],
   "source": []
  },
  {
   "cell_type": "code",
   "execution_count": 80,
   "metadata": {},
   "outputs": [
    {
     "name": "stdout",
     "output_type": "stream",
     "text": [
      "Kitap & Dergi\n",
      "/kitaplar-c-2147483645\n",
      "Müzik Enstrümanları ve Ekipmanları\n",
      "/muzik-c-2147483641\n",
      "Hobi & Oyun\n",
      "/hobi-eglence-urunleri-c-2147483605\n",
      "Yurt Dışına Satış\n",
      "Film\n",
      "/filmler-c-2147483640\n",
      "Müzik (Medya)\n",
      "/muzik-c-2147483641\n"
     ]
    }
   ],
   "source": [
    "for item in json_cevap['items']:\n",
    "    kategori_level_1 = []\n",
    "    for child in item['children']:\n",
    "        print(child['title'])\n",
    "        if (child['url']):\n",
    "            kategori_level_1.append(child['url'])\n",
    "            print(child['url'])\n",
    "        "
   ]
  },
  {
   "cell_type": "code",
   "execution_count": 81,
   "metadata": {},
   "outputs": [
    {
     "data": {
      "text/plain": [
       "2"
      ]
     },
     "execution_count": 81,
     "metadata": {},
     "output_type": "execute_result"
    }
   ],
   "source": [
    "len(kategori_level_1)"
   ]
  },
  {
   "cell_type": "code",
   "execution_count": 82,
   "metadata": {},
   "outputs": [
    {
     "data": {
      "text/plain": [
       "['/filmler-c-2147483640', '/muzik-c-2147483641']"
      ]
     },
     "execution_count": 82,
     "metadata": {},
     "output_type": "execute_result"
    }
   ],
   "source": [
    "kategori_level_1"
   ]
  },
  {
   "cell_type": "code",
   "execution_count": null,
   "metadata": {},
   "outputs": [],
   "source": []
  }
 ],
 "metadata": {
  "kernelspec": {
   "display_name": "Python 3",
   "language": "python",
   "name": "python3"
  },
  "language_info": {
   "codemirror_mode": {
    "name": "ipython",
    "version": 3
   },
   "file_extension": ".py",
   "mimetype": "text/x-python",
   "name": "python",
   "nbconvert_exporter": "python",
   "pygments_lexer": "ipython3",
   "version": "3.7.4"
  }
 },
 "nbformat": 4,
 "nbformat_minor": 4
}
