{
 "cells": [
  {
   "cell_type": "code",
   "execution_count": 75,
   "metadata": {},
   "outputs": [],
   "source": [
    "import urllib.request\n",
    "import re\n",
    "import io"
   ]
  },
  {
   "cell_type": "code",
   "execution_count": 76,
   "metadata": {},
   "outputs": [],
   "source": [
    "import json\n"
   ]
  },
  {
   "cell_type": "code",
   "execution_count": 77,
   "metadata": {},
   "outputs": [],
   "source": [
    "menu_elemanlari = [\"1722\", \"1711\", \"1723\", \"1715\"]"
   ]
  },
  {
   "cell_type": "code",
   "execution_count": 78,
   "metadata": {},
   "outputs": [
    {
     "name": "stdout",
     "output_type": "stream",
     "text": [
      "https://www.hepsiburada.com/navigation/1722\n",
      "https://www.hepsiburada.com/navigation/1711\n",
      "https://www.hepsiburada.com/navigation/1723\n",
      "https://www.hepsiburada.com/navigation/1715\n"
     ]
    }
   ],
   "source": [
    "kategoriler = []\n",
    "for menu_elemani in menu_elemanlari:\n",
    "    url = \"https://www.hepsiburada.com/navigation/\" + menu_elemani\n",
    "    istek = urllib.request.Request(url)\n",
    "    try:\n",
    "        cevap = urllib.request.urlopen(istek)\n",
    "        htmlBytes = cevap.read()\n",
    "        htmlStr = htmlBytes.decode(\"utf8\")\n",
    "        json_cevap = json.loads(htmlStr)\n",
    "        \n",
    "        kategori_level_1 = []\n",
    "        kategori_level_2 = []\n",
    "        kategori_level_3 = []\n",
    "        kategori_level_4 = []\n",
    "\n",
    "        for item in json_cevap['items']:\n",
    "            for child in item['children']:\n",
    "                if (child['url']):\n",
    "                    kategori_level_1.append(child['url'])\n",
    "                for child2 in child['children']:\n",
    "                    if (child2['url']):\n",
    "                        kategori_level_2.append(child2['url'])\n",
    "                    if (len(child2['children']) > 0):\n",
    "                        for child3 in child2['children']:\n",
    "                            kategori_level_3.append(child3['url'])\n",
    "                            for child4 in child3['children']:\n",
    "                                kategori_level_4.append(child4['url'])\n",
    "        kategoriler.append(kategori_level_1)\n",
    "        kategoriler.append(kategori_level_2)\n",
    "        kategoriler.append(kategori_level_3)\n",
    "        kategoriler.append(kategori_level_4)\n",
    "    except:\n",
    "        print(\"hata oluştu bağlantı gerçekleşmedi\")\n",
    "    print(url)"
   ]
  },
  {
   "cell_type": "code",
   "execution_count": 79,
   "metadata": {},
   "outputs": [
    {
     "data": {
      "text/plain": [
       "16"
      ]
     },
     "execution_count": 79,
     "metadata": {},
     "output_type": "execute_result"
    }
   ],
   "source": [
    "len(kategoriler)"
   ]
  },
  {
   "cell_type": "code",
   "execution_count": null,
   "metadata": {},
   "outputs": [],
   "source": []
  },
  {
   "cell_type": "code",
   "execution_count": 80,
   "metadata": {},
   "outputs": [],
   "source": [
    "kategoriler_liste = []\n",
    "for kategori in kategoriler:\n",
    "    for kate in kategori:\n",
    "        kategoriler_liste.append(kate.split('?')[0])"
   ]
  },
  {
   "cell_type": "code",
   "execution_count": 81,
   "metadata": {},
   "outputs": [
    {
     "data": {
      "text/plain": [
       "722"
      ]
     },
     "execution_count": 81,
     "metadata": {},
     "output_type": "execute_result"
    }
   ],
   "source": [
    "len(kategoriler_liste)"
   ]
  },
  {
   "cell_type": "code",
   "execution_count": 82,
   "metadata": {},
   "outputs": [],
   "source": [
    "with open(\"kategoriler_liste.txt\", \"w\") as txt_file:\n",
    "    for line in kategoriler_liste:\n",
    "        txt_file.write(line + \"\\n\")"
   ]
  },
  {
   "cell_type": "code",
   "execution_count": null,
   "metadata": {},
   "outputs": [],
   "source": []
  },
  {
   "cell_type": "code",
   "execution_count": null,
   "metadata": {},
   "outputs": [],
   "source": []
  },
  {
   "cell_type": "code",
   "execution_count": null,
   "metadata": {},
   "outputs": [],
   "source": []
  },
  {
   "cell_type": "code",
   "execution_count": null,
   "metadata": {},
   "outputs": [],
   "source": []
  },
  {
   "cell_type": "code",
   "execution_count": null,
   "metadata": {},
   "outputs": [],
   "source": []
  },
  {
   "cell_type": "code",
   "execution_count": null,
   "metadata": {},
   "outputs": [],
   "source": []
  },
  {
   "cell_type": "code",
   "execution_count": 38,
   "metadata": {},
   "outputs": [],
   "source": [
    "url = \"https://www.hepsiburada.com/navigation/1722\""
   ]
  },
  {
   "cell_type": "code",
   "execution_count": 39,
   "metadata": {},
   "outputs": [],
   "source": [
    "istek = urllib.request.Request(url)"
   ]
  },
  {
   "cell_type": "code",
   "execution_count": 40,
   "metadata": {},
   "outputs": [],
   "source": [
    "try:\n",
    "    cevap = urllib.request.urlopen(istek)\n",
    "except:\n",
    "    print(\"hata oluştu bağlantı gerçekleşmedi\")"
   ]
  },
  {
   "cell_type": "code",
   "execution_count": 41,
   "metadata": {},
   "outputs": [
    {
     "data": {
      "text/plain": [
       "<http.client.HTTPResponse at 0x110033990>"
      ]
     },
     "execution_count": 41,
     "metadata": {},
     "output_type": "execute_result"
    }
   ],
   "source": [
    "cevap"
   ]
  },
  {
   "cell_type": "code",
   "execution_count": 42,
   "metadata": {},
   "outputs": [],
   "source": [
    "htmlBytes = cevap.read()\n",
    "htmlStr = htmlBytes.decode(\"utf8\")"
   ]
  },
  {
   "cell_type": "code",
   "execution_count": 43,
   "metadata": {},
   "outputs": [
    {
     "data": {
      "text/plain": [
       "'{\"items\":[{\"id\":2526,\"level\":1,\"parentId\":1722,\"categoryId\":\"\",\"title\":\"Sanal Grup\",\"url\":null,\"prio'"
      ]
     },
     "execution_count": 43,
     "metadata": {},
     "output_type": "execute_result"
    }
   ],
   "source": [
    "htmlStr[0:100]"
   ]
  },
  {
   "cell_type": "code",
   "execution_count": 44,
   "metadata": {},
   "outputs": [],
   "source": [
    "json_cevap = json.loads(htmlStr)"
   ]
  },
  {
   "cell_type": "code",
   "execution_count": null,
   "metadata": {},
   "outputs": [],
   "source": []
  },
  {
   "cell_type": "code",
   "execution_count": null,
   "metadata": {},
   "outputs": [],
   "source": []
  },
  {
   "cell_type": "code",
   "execution_count": 58,
   "metadata": {},
   "outputs": [
    {
     "name": "stdout",
     "output_type": "stream",
     "text": [
      "Kitap & Dergi\n",
      "Edebiyat\n",
      "Eğitim\n",
      "Çocuk\n",
      "Müzik Enstrümanları ve Ekipmanları\n",
      "Hobi & Oyun\n",
      "Yurt Dışına Satış\n",
      "Film\n",
      "Müzik (Medya)\n"
     ]
    }
   ],
   "source": [
    "kategori_level_1 = []\n",
    "kategori_level_2 = []\n",
    "kategori_level_3 = []\n",
    "kategori_level_4 = []\n",
    "for item in json_cevap['items']:\n",
    "    for child in item['children']:\n",
    "        print(child['title'])\n",
    "        \n",
    "        if (child['url']):\n",
    "            kategori_level_1.append(child['url'])\n",
    "        for child2 in child['children']:\n",
    "            if (child2['url']):\n",
    "                kategori_level_2.append(child2['url'])\n",
    "            if (len(child2['children']) > 0):\n",
    "                for child3 in child2['children']:\n",
    "                    print(child3['title'])\n",
    "                    kategori_level_3.append(child3['url'])\n",
    "                    for child4 in child3['children']:\n",
    "                        kategori_level_4.append(child4['url'])\n",
    "        "
   ]
  },
  {
   "cell_type": "code",
   "execution_count": 59,
   "metadata": {},
   "outputs": [
    {
     "data": {
      "text/plain": [
       "['/kitaplar-c-2147483645',\n",
       " '/muzik-c-2147483641',\n",
       " '/hobi-eglence-urunleri-c-2147483605',\n",
       " '/filmler-c-2147483640',\n",
       " '/muzik-c-2147483641']"
      ]
     },
     "execution_count": 59,
     "metadata": {},
     "output_type": "execute_result"
    }
   ],
   "source": [
    "kategori_level_1"
   ]
  },
  {
   "cell_type": "code",
   "execution_count": 60,
   "metadata": {},
   "outputs": [
    {
     "data": {
      "text/plain": [
       "['/cizgi-roman-kitaplari-c-211822',\n",
       " '/oyku-kitaplari-c-9905',\n",
       " '/siir-kitaplari-c-9911',\n",
       " '/deneme-inceleme-kitaplari-c-9904',\n",
       " '/roman-kitaplari-c-1501702',\n",
       " '/turk-edebiyatlari-c-1501764',\n",
       " '/dunya-edebiyati-c-1501757',\n",
       " '/bilgisayar-kitaplari-c-9934',\n",
       " '/ders-sinav-kitaplari-c-213021',\n",
       " '/yabanci-dil-kitaplari-c-214049',\n",
       " '/okul-oncesi-egitici-ogretici-kitaplar-c-9932',\n",
       " '/cocuklar-icin-masallar-c-9928',\n",
       " '/cocuklar-icin-boyama-kitaplari-c-9980']"
      ]
     },
     "execution_count": 60,
     "metadata": {},
     "output_type": "execute_result"
    }
   ],
   "source": [
    "kategori_level_4"
   ]
  },
  {
   "cell_type": "code",
   "execution_count": null,
   "metadata": {},
   "outputs": [],
   "source": []
  }
 ],
 "metadata": {
  "kernelspec": {
   "display_name": "Python 3",
   "language": "python",
   "name": "python3"
  },
  "language_info": {
   "codemirror_mode": {
    "name": "ipython",
    "version": 3
   },
   "file_extension": ".py",
   "mimetype": "text/x-python",
   "name": "python",
   "nbconvert_exporter": "python",
   "pygments_lexer": "ipython3",
   "version": "3.7.4"
  }
 },
 "nbformat": 4,
 "nbformat_minor": 4
}
