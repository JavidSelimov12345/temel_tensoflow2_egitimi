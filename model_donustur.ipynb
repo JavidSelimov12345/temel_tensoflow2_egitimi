{
 "cells": [
  {
   "cell_type": "code",
   "execution_count": 1,
   "metadata": {},
   "outputs": [],
   "source": [
    "import tensorflow as tf\n",
    "tf.enable_eager_execution()"
   ]
  },
  {
   "cell_type": "code",
   "execution_count": 2,
   "metadata": {},
   "outputs": [],
   "source": [
    "import numpy as np\n",
    "import pandas as pd\n",
    "import json\n",
    "\n",
    "from tensorflow.python.keras.models import load_model"
   ]
  },
  {
   "cell_type": "code",
   "execution_count": 10,
   "metadata": {},
   "outputs": [],
   "source": [
    "import tensorflowjs as tfjs\n"
   ]
  },
  {
   "cell_type": "code",
   "execution_count": 3,
   "metadata": {},
   "outputs": [
    {
     "name": "stdout",
     "output_type": "stream",
     "text": [
      "WARNING:tensorflow:From /usr/local/lib/python3.7/site-packages/tensorflow/python/ops/math_grad.py:1250: add_dispatch_support.<locals>.wrapper (from tensorflow.python.ops.array_ops) is deprecated and will be removed in a future version.\n",
      "Instructions for updating:\n",
      "Use tf.where in 2.0, which has the same broadcast rule as np.where\n"
     ]
    }
   ],
   "source": [
    "yeni_model = load_model('28ekim14_08.h5')"
   ]
  },
  {
   "cell_type": "code",
   "execution_count": 4,
   "metadata": {},
   "outputs": [],
   "source": [
    "with open('tokenizer.json') as json_dosyasi:\n",
    "    json_tokenizer = json.load(json_dosyasi)"
   ]
  },
  {
   "cell_type": "code",
   "execution_count": 5,
   "metadata": {},
   "outputs": [],
   "source": [
    "def tokenlestir(yorumListesi):\n",
    "    y_yorumlar = []\n",
    "    for yorum in yorumListesi:\n",
    "        y_yorum = []\n",
    "        for kelime in yorum.split():\n",
    "            if (len(y_yorum) < 50 and kelime in json_tokenizer):\n",
    "                y_yorum.append(json_tokenizer[kelime])\n",
    "                \n",
    "        if (len(y_yorum) < 50):\n",
    "            sifirlar = list(np.zeros(50 - len(y_yorum), dtype = int))\n",
    "            y_yorum = sifirlar + y_yorum\n",
    "            \n",
    "        y_yorumlar.append(y_yorum)\n",
    "    return np.array(y_yorumlar, dtype = np.dtype(np.int32))"
   ]
  },
  {
   "cell_type": "code",
   "execution_count": 6,
   "metadata": {},
   "outputs": [],
   "source": [
    "text1 = \"bu ürün çok iyi herkese tavsiye ederim\"\n",
    "text2 = \"kargo çok hızlı aynı gün elime geçti\"\n",
    "text3 = \"büyük bir hayal kırıklığı yaşadım bu ürün bu markaya yakışmamış\"\n",
    "text4 = \"mükemmel\"\n",
    "text5 = \"tasarımı harika ancak kargo çok geç geldi ve ürün açılmıştı tavsiye etmem\"\n",
    "text6 = \"hiç resimde gösterildiği gibi değil\"\n",
    "text7 = \"kötü yorumlar gözümü korkutmuştu ancak hiçbir sorun yaşamadım teşekkürler\"\n",
    "text8 = \"hiç bu kadar kötü bir satıcıya denk gelmemiştim ürünü geri iade ediyorum\"\n",
    "text9 = \"tam bir fiyat performans ürünü\"\n",
    "text10 = \"beklediğim gibi çıkmadı\"\n",
    "yazilar = [text1, text2, text3, text4, text5, text6, text7, text8, text9, text10]"
   ]
  },
  {
   "cell_type": "code",
   "execution_count": 7,
   "metadata": {},
   "outputs": [],
   "source": [
    "deneme_kume = tokenlestir(yazilar)"
   ]
  },
  {
   "cell_type": "code",
   "execution_count": 8,
   "metadata": {},
   "outputs": [],
   "source": [
    "yeni_sonuc = yeni_model.predict(deneme_kume)"
   ]
  },
  {
   "cell_type": "code",
   "execution_count": 9,
   "metadata": {},
   "outputs": [
    {
     "data": {
      "text/plain": [
       "array([[0.9857707 ],\n",
       "       [0.9853661 ],\n",
       "       [0.17877862],\n",
       "       [0.9846419 ],\n",
       "       [0.4203341 ],\n",
       "       [0.51625293],\n",
       "       [0.9753051 ],\n",
       "       [0.5689444 ],\n",
       "       [0.9857189 ],\n",
       "       [0.27126715]], dtype=float32)"
      ]
     },
     "execution_count": 9,
     "metadata": {},
     "output_type": "execute_result"
    }
   ],
   "source": [
    "yeni_sonuc"
   ]
  },
  {
   "cell_type": "code",
   "execution_count": 11,
   "metadata": {},
   "outputs": [],
   "source": [
    "tfjs.converters.save_keras_model(yeni_model, './json_model/')\n"
   ]
  },
  {
   "cell_type": "code",
   "execution_count": null,
   "metadata": {},
   "outputs": [],
   "source": []
  }
 ],
 "metadata": {
  "kernelspec": {
   "display_name": "Python 3",
   "language": "python",
   "name": "python3"
  },
  "language_info": {
   "codemirror_mode": {
    "name": "ipython",
    "version": 3
   },
   "file_extension": ".py",
   "mimetype": "text/x-python",
   "name": "python",
   "nbconvert_exporter": "python",
   "pygments_lexer": "ipython3",
   "version": "3.7.4"
  }
 },
 "nbformat": 4,
 "nbformat_minor": 4
}
