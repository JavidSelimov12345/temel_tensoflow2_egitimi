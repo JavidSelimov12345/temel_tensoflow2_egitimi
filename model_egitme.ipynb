{
 "cells": [
  {
   "cell_type": "code",
   "execution_count": 9,
   "metadata": {},
   "outputs": [],
   "source": [
    "import numpy as np\n",
    "import pandas as pd\n",
    "import json\n",
    "\n",
    "from tensorflow.python.keras.models import Sequential\n",
    "from tensorflow.python.keras.layers import Dense, GRU, Embedding, CuDNNGRU\n",
    "from tensorflow.python.keras.optimizers import Adam"
   ]
  },
  {
   "cell_type": "code",
   "execution_count": 2,
   "metadata": {},
   "outputs": [],
   "source": [
    "dataframe = pd.read_csv('yorumlar.csv', sep = \"\\t\")\n",
    "target = dataframe['Puan'].values.tolist()\n",
    "data = dataframe['Yorum'].values.tolist()"
   ]
  },
  {
   "cell_type": "code",
   "execution_count": 3,
   "metadata": {},
   "outputs": [
    {
     "data": {
      "text/html": [
       "<div>\n",
       "<style scoped>\n",
       "    .dataframe tbody tr th:only-of-type {\n",
       "        vertical-align: middle;\n",
       "    }\n",
       "\n",
       "    .dataframe tbody tr th {\n",
       "        vertical-align: top;\n",
       "    }\n",
       "\n",
       "    .dataframe thead th {\n",
       "        text-align: right;\n",
       "    }\n",
       "</style>\n",
       "<table border=\"1\" class=\"dataframe\">\n",
       "  <thead>\n",
       "    <tr style=\"text-align: right;\">\n",
       "      <th></th>\n",
       "      <th>Puan</th>\n",
       "      <th>Yorum</th>\n",
       "    </tr>\n",
       "  </thead>\n",
       "  <tbody>\n",
       "    <tr>\n",
       "      <td>0</td>\n",
       "      <td>1.0</td>\n",
       "      <td>Hızlı ve özenli kargo bu fiyata gayet iyi bir ...</td>\n",
       "    </tr>\n",
       "    <tr>\n",
       "      <td>1</td>\n",
       "      <td>1.0</td>\n",
       "      <td>Harika bir kitqp,şiddetle tavsiye??</td>\n",
       "    </tr>\n",
       "    <tr>\n",
       "      <td>2</td>\n",
       "      <td>1.0</td>\n",
       "      <td>Şahane bir plak ! Mermer baskısı o kadar şık o...</td>\n",
       "    </tr>\n",
       "    <tr>\n",
       "      <td>3</td>\n",
       "      <td>1.0</td>\n",
       "      <td>İnanılmaz keyifli bir oyun. Hem heyecan hem ke...</td>\n",
       "    </tr>\n",
       "    <tr>\n",
       "      <td>4</td>\n",
       "      <td>1.0</td>\n",
       "      <td>Alısverışten çok memnun kaldım eksıksız. Ç sor...</td>\n",
       "    </tr>\n",
       "    <tr>\n",
       "      <td>...</td>\n",
       "      <td>...</td>\n",
       "      <td>...</td>\n",
       "    </tr>\n",
       "    <tr>\n",
       "      <td>28978</td>\n",
       "      <td>1.0</td>\n",
       "      <td>yer kısıtı olanlar için çok kullanışlı bir ürü...</td>\n",
       "    </tr>\n",
       "    <tr>\n",
       "      <td>28979</td>\n",
       "      <td>0.0</td>\n",
       "      <td>içi boş bir kitap her sayfa birbirinden alakas...</td>\n",
       "    </tr>\n",
       "    <tr>\n",
       "      <td>28980</td>\n",
       "      <td>1.0</td>\n",
       "      <td>uygun fiyat</td>\n",
       "    </tr>\n",
       "    <tr>\n",
       "      <td>28981</td>\n",
       "      <td>1.0</td>\n",
       "      <td>Ürün elime ulaştı. Henüz okumadım ama firma ge...</td>\n",
       "    </tr>\n",
       "    <tr>\n",
       "      <td>28982</td>\n",
       "      <td>0.0</td>\n",
       "      <td>Klasik Türk filmi. Türkan Şoray ,Ediz Hun aşkı...</td>\n",
       "    </tr>\n",
       "  </tbody>\n",
       "</table>\n",
       "<p>28983 rows × 2 columns</p>\n",
       "</div>"
      ],
      "text/plain": [
       "       Puan                                              Yorum\n",
       "0       1.0  Hızlı ve özenli kargo bu fiyata gayet iyi bir ...\n",
       "1       1.0                Harika bir kitqp,şiddetle tavsiye??\n",
       "2       1.0  Şahane bir plak ! Mermer baskısı o kadar şık o...\n",
       "3       1.0  İnanılmaz keyifli bir oyun. Hem heyecan hem ke...\n",
       "4       1.0  Alısverışten çok memnun kaldım eksıksız. Ç sor...\n",
       "...     ...                                                ...\n",
       "28978   1.0  yer kısıtı olanlar için çok kullanışlı bir ürü...\n",
       "28979   0.0  içi boş bir kitap her sayfa birbirinden alakas...\n",
       "28980   1.0                                        uygun fiyat\n",
       "28981   1.0  Ürün elime ulaştı. Henüz okumadım ama firma ge...\n",
       "28982   0.0  Klasik Türk filmi. Türkan Şoray ,Ediz Hun aşkı...\n",
       "\n",
       "[28983 rows x 2 columns]"
      ]
     },
     "execution_count": 3,
     "metadata": {},
     "output_type": "execute_result"
    }
   ],
   "source": [
    "dataframe"
   ]
  },
  {
   "cell_type": "code",
   "execution_count": 5,
   "metadata": {},
   "outputs": [
    {
     "data": {
      "text/plain": [
       "28983"
      ]
     },
     "execution_count": 5,
     "metadata": {},
     "output_type": "execute_result"
    }
   ],
   "source": [
    "len(data)"
   ]
  },
  {
   "cell_type": "code",
   "execution_count": 6,
   "metadata": {},
   "outputs": [],
   "source": [
    "cutoff = int(len(data) * 0.85)\n",
    "x_train, x_test = data[:cutoff], data[cutoff:]\n",
    "y_train, y_test = target[:cutoff], target[cutoff:]"
   ]
  },
  {
   "cell_type": "code",
   "execution_count": 7,
   "metadata": {},
   "outputs": [
    {
     "data": {
      "text/plain": [
       "24635"
      ]
     },
     "execution_count": 7,
     "metadata": {},
     "output_type": "execute_result"
    }
   ],
   "source": [
    "len(x_train)"
   ]
  },
  {
   "cell_type": "code",
   "execution_count": 8,
   "metadata": {},
   "outputs": [
    {
     "data": {
      "text/plain": [
       "'gitar kursuna yeni başladım. ne almalıyım diye bakınırken Hepsiburada da bu ürünü gördüm. fiyatı ve hediyeleri ile birlikte çok iyi fiyat. siyah olmasıda benim için ayrı güzel.'"
      ]
     },
     "execution_count": 8,
     "metadata": {},
     "output_type": "execute_result"
    }
   ],
   "source": [
    "x_train[245]"
   ]
  },
  {
   "cell_type": "code",
   "execution_count": null,
   "metadata": {},
   "outputs": [],
   "source": []
  },
  {
   "cell_type": "code",
   "execution_count": 10,
   "metadata": {},
   "outputs": [],
   "source": [
    "with open('tokenizer.json') as json_dosyasi:\n",
    "    json_tokenizer = json.load(json_dosyasi)"
   ]
  },
  {
   "cell_type": "code",
   "execution_count": 32,
   "metadata": {},
   "outputs": [
    {
     "ename": "KeyError",
     "evalue": "'yakışmamış'",
     "output_type": "error",
     "traceback": [
      "\u001b[0;31m---------------------------------------------------------------------------\u001b[0m",
      "\u001b[0;31mKeyError\u001b[0m                                  Traceback (most recent call last)",
      "\u001b[0;32m<ipython-input-32-872223d58bc7>\u001b[0m in \u001b[0;36m<module>\u001b[0;34m\u001b[0m\n\u001b[0;32m----> 1\u001b[0;31m \u001b[0mjson_tokenizer\u001b[0m\u001b[0;34m[\u001b[0m\u001b[0;34m'yakışmamış'\u001b[0m\u001b[0;34m]\u001b[0m\u001b[0;34m\u001b[0m\u001b[0;34m\u001b[0m\u001b[0m\n\u001b[0m",
      "\u001b[0;31mKeyError\u001b[0m: 'yakışmamış'"
     ]
    }
   ],
   "source": [
    "json_tokenizer['yakışmamış']"
   ]
  },
  {
   "cell_type": "code",
   "execution_count": 13,
   "metadata": {},
   "outputs": [],
   "source": [
    "def tokenlestir(yorumListesi):\n",
    "    y_yorumlar = []\n",
    "    for yorum in yorumListesi:\n",
    "        y_yorum = []\n",
    "        for kelime in yorum.split():\n",
    "            if (len(y_yorum) < 50 and kelime in json_tokenizer):\n",
    "                y_yorum.append(json_tokenizer[kelime])\n",
    "                \n",
    "        if (len(y_yorum) < 50):\n",
    "            sifirlar = list(np.zeros(50 - len(y_yorum), dtype = int))\n",
    "            y_yorum = sifirlar + y_yorum\n",
    "            \n",
    "        y_yorumlar.append(y_yorum)\n",
    "    return np.array(y_yorumlar, dtype = np.dtype(np.int32))"
   ]
  },
  {
   "cell_type": "code",
   "execution_count": 14,
   "metadata": {},
   "outputs": [],
   "source": [
    "egitim_kume = tokenlestir(x_train)"
   ]
  },
  {
   "cell_type": "code",
   "execution_count": 15,
   "metadata": {},
   "outputs": [
    {
     "data": {
      "text/plain": [
       "array([   0,    0,    0,    0,    0,    0,    0,    0,    0,    0,    0,\n",
       "          0,    0,    0,    0,    0,    0,    0,    0,    0,    0,    0,\n",
       "          0,    0,    0,    0,    0,    0,    0,    0,  152, 3872,   76,\n",
       "         66,   86,   16,    6,   67,  127,    3, 4443,   33,  285,    2,\n",
       "         11,  919, 3228,  150,    7,  247], dtype=int32)"
      ]
     },
     "execution_count": 15,
     "metadata": {},
     "output_type": "execute_result"
    }
   ],
   "source": [
    "egitim_kume[245]"
   ]
  },
  {
   "cell_type": "code",
   "execution_count": 17,
   "metadata": {},
   "outputs": [],
   "source": [
    "test_kume = tokenlestir(x_test)"
   ]
  },
  {
   "cell_type": "code",
   "execution_count": null,
   "metadata": {},
   "outputs": [],
   "source": []
  },
  {
   "cell_type": "code",
   "execution_count": 21,
   "metadata": {},
   "outputs": [
    {
     "name": "stdout",
     "output_type": "stream",
     "text": [
      "Model: \"sequential_2\"\n",
      "_________________________________________________________________\n",
      "Layer (type)                 Output Shape              Param #   \n",
      "=================================================================\n",
      "embedding_layer (Embedding)  (None, 50, 50)            500050    \n",
      "_________________________________________________________________\n",
      "gru_3 (GRU)                  (None, 50, 16)            3216      \n",
      "_________________________________________________________________\n",
      "gru_4 (GRU)                  (None, 50, 8)             600       \n",
      "_________________________________________________________________\n",
      "gru_5 (GRU)                  (None, 4)                 156       \n",
      "_________________________________________________________________\n",
      "dense_1 (Dense)              (None, 1)                 5         \n",
      "=================================================================\n",
      "Total params: 504,027\n",
      "Trainable params: 504,027\n",
      "Non-trainable params: 0\n",
      "_________________________________________________________________\n"
     ]
    }
   ],
   "source": [
    "model = Sequential()\n",
    "\n",
    "embedding_size = 50\n",
    "\n",
    "model.add(Embedding(input_dim=10001,\n",
    "                    output_dim=embedding_size,\n",
    "                    input_length=50,\n",
    "                    name='embedding_layer'))\n",
    "\n",
    "model.add(GRU(units=16, return_sequences=True))\n",
    "model.add(GRU(units=8, return_sequences=True))\n",
    "model.add(GRU(units=4))\n",
    "model.add(Dense(1, activation='sigmoid'))\n",
    "\n",
    "optimizer = Adam(lr=1e-3)\n",
    "\n",
    "model.compile(loss='binary_crossentropy',\n",
    "              optimizer=optimizer,\n",
    "              metrics=['accuracy'])\n",
    "\n",
    "model.summary()"
   ]
  },
  {
   "cell_type": "code",
   "execution_count": 22,
   "metadata": {},
   "outputs": [
    {
     "name": "stdout",
     "output_type": "stream",
     "text": [
      "Epoch 1/5\n",
      "24635/24635 [==============================] - 12s 477us/sample - loss: 0.3353 - acc: 0.9275\n",
      "Epoch 2/5\n",
      "24635/24635 [==============================] - 10s 409us/sample - loss: 0.2036 - acc: 0.9354\n",
      "Epoch 3/5\n",
      "24635/24635 [==============================] - 10s 408us/sample - loss: 0.1481 - acc: 0.9523\n",
      "Epoch 4/5\n",
      "24635/24635 [==============================] - 10s 403us/sample - loss: 0.1087 - acc: 0.9673\n",
      "Epoch 5/5\n",
      "24635/24635 [==============================] - 10s 409us/sample - loss: 0.0839 - acc: 0.9776\n"
     ]
    },
    {
     "data": {
      "text/plain": [
       "<tensorflow.python.keras.callbacks.History at 0x13b341590>"
      ]
     },
     "execution_count": 22,
     "metadata": {},
     "output_type": "execute_result"
    }
   ],
   "source": [
    "model.fit(egitim_kume, y_train, epochs = 5, batch_size = 256)"
   ]
  },
  {
   "cell_type": "code",
   "execution_count": 23,
   "metadata": {},
   "outputs": [
    {
     "name": "stdout",
     "output_type": "stream",
     "text": [
      "4348/4348 [==============================] - 2s 571us/sample - loss: 0.2093 - acc: 0.9322\n"
     ]
    },
    {
     "data": {
      "text/plain": [
       "[0.20926746494362083, 0.9321527]"
      ]
     },
     "execution_count": 23,
     "metadata": {},
     "output_type": "execute_result"
    }
   ],
   "source": [
    "model.evaluate(test_kume, y_test)"
   ]
  },
  {
   "cell_type": "code",
   "execution_count": 24,
   "metadata": {},
   "outputs": [],
   "source": [
    "model.save('28ekim14_08.h5')"
   ]
  },
  {
   "cell_type": "code",
   "execution_count": 26,
   "metadata": {},
   "outputs": [],
   "source": [
    "text1 = \"bu ürün çok iyi herkese tavsiye ederim\"\n",
    "text2 = \"kargo çok hızlı aynı gün elime geçti\"\n",
    "text3 = \"büyük bir hayal kırıklığı yaşadım bu ürün bu markaya yakışmamış\"\n",
    "text4 = \"mükemmel\"\n",
    "text5 = \"tasarımı harika ancak kargo çok geç geldi ve ürün açılmıştı tavsiye etmem\"\n",
    "text6 = \"hiç resimde gösterildiği gibi değil\"\n",
    "text7 = \"kötü yorumlar gözümü korkutmuştu ancak hiçbir sorun yaşamadım teşekkürler\"\n",
    "text8 = \"hiç bu kadar kötü bir satıcıya denk gelmemiştim ürünü geri iade ediyorum\"\n",
    "text9 = \"tam bir fiyat performans ürünü\"\n",
    "text10 = \"beklediğim gibi çıkmadı\"\n",
    "yazilar = [text1, text2, text3, text4, text5, text6, text7, text8, text9, text10]"
   ]
  },
  {
   "cell_type": "code",
   "execution_count": 27,
   "metadata": {},
   "outputs": [],
   "source": [
    "deneme_kume = tokenlestir(yazilar)"
   ]
  },
  {
   "cell_type": "code",
   "execution_count": 29,
   "metadata": {},
   "outputs": [
    {
     "data": {
      "text/plain": [
       "array([ 0,  0,  0,  0,  0,  0,  0,  0,  0,  0,  0,  0,  0,  0,  0,  0,  0,\n",
       "        0,  0,  0,  0,  0,  0,  0,  0,  0,  0,  0,  0,  0,  0,  0,  0,  0,\n",
       "        0,  0,  0,  0,  0,  0,  0,  0,  0,  0,  0,  0,  0,  0,  0, 59],\n",
       "      dtype=int32)"
      ]
     },
     "execution_count": 29,
     "metadata": {},
     "output_type": "execute_result"
    }
   ],
   "source": [
    "deneme_kume[3]"
   ]
  },
  {
   "cell_type": "code",
   "execution_count": 30,
   "metadata": {},
   "outputs": [],
   "source": [
    "sonuc = model.predict(deneme_kume)"
   ]
  },
  {
   "cell_type": "code",
   "execution_count": 31,
   "metadata": {},
   "outputs": [
    {
     "data": {
      "text/plain": [
       "array([[0.9857707 ],\n",
       "       [0.9853661 ],\n",
       "       [0.17877862],\n",
       "       [0.9846419 ],\n",
       "       [0.4203341 ],\n",
       "       [0.51625293],\n",
       "       [0.9753051 ],\n",
       "       [0.5689444 ],\n",
       "       [0.9857189 ],\n",
       "       [0.27126715]], dtype=float32)"
      ]
     },
     "execution_count": 31,
     "metadata": {},
     "output_type": "execute_result"
    }
   ],
   "source": [
    "sonuc"
   ]
  },
  {
   "cell_type": "code",
   "execution_count": null,
   "metadata": {},
   "outputs": [],
   "source": []
  }
 ],
 "metadata": {
  "kernelspec": {
   "display_name": "Python 3",
   "language": "python",
   "name": "python3"
  },
  "language_info": {
   "codemirror_mode": {
    "name": "ipython",
    "version": 3
   },
   "file_extension": ".py",
   "mimetype": "text/x-python",
   "name": "python",
   "nbconvert_exporter": "python",
   "pygments_lexer": "ipython3",
   "version": "3.7.5"
  }
 },
 "nbformat": 4,
 "nbformat_minor": 4
}
