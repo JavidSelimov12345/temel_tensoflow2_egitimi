{
 "cells": [
  {
   "cell_type": "code",
   "execution_count": 1,
   "metadata": {},
   "outputs": [],
   "source": [
    "import pandas as pd\n",
    "from sklearn.utils import shuffle"
   ]
  },
  {
   "cell_type": "code",
   "execution_count": 7,
   "metadata": {},
   "outputs": [],
   "source": [
    "data = pd.read_csv('yorumlar_liste.csv', sep = \"\\t\")"
   ]
  },
  {
   "cell_type": "code",
   "execution_count": 8,
   "metadata": {},
   "outputs": [
    {
     "data": {
      "text/html": [
       "<div>\n",
       "<style scoped>\n",
       "    .dataframe tbody tr th:only-of-type {\n",
       "        vertical-align: middle;\n",
       "    }\n",
       "\n",
       "    .dataframe tbody tr th {\n",
       "        vertical-align: top;\n",
       "    }\n",
       "\n",
       "    .dataframe thead th {\n",
       "        text-align: right;\n",
       "    }\n",
       "</style>\n",
       "<table border=\"1\" class=\"dataframe\">\n",
       "  <thead>\n",
       "    <tr style=\"text-align: right;\">\n",
       "      <th></th>\n",
       "      <th>Puan</th>\n",
       "      <th>Yorum</th>\n",
       "    </tr>\n",
       "  </thead>\n",
       "  <tbody>\n",
       "    <tr>\n",
       "      <td>0</td>\n",
       "      <td>1.0</td>\n",
       "      <td>Ürün gayet kaliteli ve hızlı elime geçti tavsi...</td>\n",
       "    </tr>\n",
       "    <tr>\n",
       "      <td>1</td>\n",
       "      <td>0.6</td>\n",
       "      <td>yuvarlak olanından istemiştim ama dikdörtgen g...</td>\n",
       "    </tr>\n",
       "    <tr>\n",
       "      <td>2</td>\n",
       "      <td>0.6</td>\n",
       "      <td>İskender palanin kitapları çok güzel başarılı ...</td>\n",
       "    </tr>\n",
       "    <tr>\n",
       "      <td>3</td>\n",
       "      <td>1.0</td>\n",
       "      <td>Bugüne kadar okuduğum kitaplar arasında ilk be...</td>\n",
       "    </tr>\n",
       "    <tr>\n",
       "      <td>4</td>\n",
       "      <td>1.0</td>\n",
       "      <td>Satıcı ürünü hemen kargoladı ve hızlıca elime ...</td>\n",
       "    </tr>\n",
       "  </tbody>\n",
       "</table>\n",
       "</div>"
      ],
      "text/plain": [
       "   Puan                                              Yorum\n",
       "0   1.0  Ürün gayet kaliteli ve hızlı elime geçti tavsi...\n",
       "1   0.6  yuvarlak olanından istemiştim ama dikdörtgen g...\n",
       "2   0.6  İskender palanin kitapları çok güzel başarılı ...\n",
       "3   1.0  Bugüne kadar okuduğum kitaplar arasında ilk be...\n",
       "4   1.0  Satıcı ürünü hemen kargoladı ve hızlıca elime ..."
      ]
     },
     "execution_count": 8,
     "metadata": {},
     "output_type": "execute_result"
    }
   ],
   "source": [
    "data.head()"
   ]
  },
  {
   "cell_type": "code",
   "execution_count": 6,
   "metadata": {},
   "outputs": [
    {
     "data": {
      "text/plain": [
       "pandas.core.frame.DataFrame"
      ]
     },
     "execution_count": 6,
     "metadata": {},
     "output_type": "execute_result"
    }
   ],
   "source": [
    "type(data)"
   ]
  },
  {
   "cell_type": "code",
   "execution_count": 11,
   "metadata": {},
   "outputs": [],
   "source": [
    "data.loc[data['Puan'] > 0.7, 'Puan'] = 1.0"
   ]
  },
  {
   "cell_type": "code",
   "execution_count": 14,
   "metadata": {},
   "outputs": [],
   "source": [
    "data.loc[data['Puan'] < 0.5, 'Puan'] = 0.0"
   ]
  },
  {
   "cell_type": "code",
   "execution_count": 15,
   "metadata": {},
   "outputs": [],
   "source": [
    "df_1 = data[data.Puan > 0.9]"
   ]
  },
  {
   "cell_type": "code",
   "execution_count": 17,
   "metadata": {},
   "outputs": [
    {
     "data": {
      "text/html": [
       "<div>\n",
       "<style scoped>\n",
       "    .dataframe tbody tr th:only-of-type {\n",
       "        vertical-align: middle;\n",
       "    }\n",
       "\n",
       "    .dataframe tbody tr th {\n",
       "        vertical-align: top;\n",
       "    }\n",
       "\n",
       "    .dataframe thead th {\n",
       "        text-align: right;\n",
       "    }\n",
       "</style>\n",
       "<table border=\"1\" class=\"dataframe\">\n",
       "  <thead>\n",
       "    <tr style=\"text-align: right;\">\n",
       "      <th></th>\n",
       "      <th>Puan</th>\n",
       "      <th>Yorum</th>\n",
       "    </tr>\n",
       "  </thead>\n",
       "  <tbody>\n",
       "    <tr>\n",
       "      <td>0</td>\n",
       "      <td>1.0</td>\n",
       "      <td>Ürün gayet kaliteli ve hızlı elime geçti tavsi...</td>\n",
       "    </tr>\n",
       "    <tr>\n",
       "      <td>3</td>\n",
       "      <td>1.0</td>\n",
       "      <td>Bugüne kadar okuduğum kitaplar arasında ilk be...</td>\n",
       "    </tr>\n",
       "    <tr>\n",
       "      <td>4</td>\n",
       "      <td>1.0</td>\n",
       "      <td>Satıcı ürünü hemen kargoladı ve hızlıca elime ...</td>\n",
       "    </tr>\n",
       "    <tr>\n",
       "      <td>5</td>\n",
       "      <td>1.0</td>\n",
       "      <td>cümleler çok tekrarlandigi için, oğlum o yerle...</td>\n",
       "    </tr>\n",
       "    <tr>\n",
       "      <td>6</td>\n",
       "      <td>1.0</td>\n",
       "      <td>Etkileyici anlatımıyla okuyucuyu romanın içine...</td>\n",
       "    </tr>\n",
       "  </tbody>\n",
       "</table>\n",
       "</div>"
      ],
      "text/plain": [
       "   Puan                                              Yorum\n",
       "0   1.0  Ürün gayet kaliteli ve hızlı elime geçti tavsi...\n",
       "3   1.0  Bugüne kadar okuduğum kitaplar arasında ilk be...\n",
       "4   1.0  Satıcı ürünü hemen kargoladı ve hızlıca elime ...\n",
       "5   1.0  cümleler çok tekrarlandigi için, oğlum o yerle...\n",
       "6   1.0  Etkileyici anlatımıyla okuyucuyu romanın içine..."
      ]
     },
     "execution_count": 17,
     "metadata": {},
     "output_type": "execute_result"
    }
   ],
   "source": [
    "df_1.head()"
   ]
  },
  {
   "cell_type": "code",
   "execution_count": 18,
   "metadata": {},
   "outputs": [],
   "source": [
    "df_0 = data[data.Puan < 0.1]"
   ]
  },
  {
   "cell_type": "code",
   "execution_count": 20,
   "metadata": {},
   "outputs": [
    {
     "data": {
      "text/html": [
       "<div>\n",
       "<style scoped>\n",
       "    .dataframe tbody tr th:only-of-type {\n",
       "        vertical-align: middle;\n",
       "    }\n",
       "\n",
       "    .dataframe tbody tr th {\n",
       "        vertical-align: top;\n",
       "    }\n",
       "\n",
       "    .dataframe thead th {\n",
       "        text-align: right;\n",
       "    }\n",
       "</style>\n",
       "<table border=\"1\" class=\"dataframe\">\n",
       "  <thead>\n",
       "    <tr style=\"text-align: right;\">\n",
       "      <th></th>\n",
       "      <th>Puan</th>\n",
       "      <th>Yorum</th>\n",
       "    </tr>\n",
       "  </thead>\n",
       "  <tbody>\n",
       "    <tr>\n",
       "      <td>9</td>\n",
       "      <td>0.0</td>\n",
       "      <td>herkesin kitap yazmaması gerektiğinin güzel bi...</td>\n",
       "    </tr>\n",
       "    <tr>\n",
       "      <td>47</td>\n",
       "      <td>0.0</td>\n",
       "      <td>Aşırı ufak, yılbaşı hediyesi için öğretmenleri...</td>\n",
       "    </tr>\n",
       "    <tr>\n",
       "      <td>49</td>\n",
       "      <td>0.0</td>\n",
       "      <td>kitapta bir hikaye basit bir anlatım seviye or...</td>\n",
       "    </tr>\n",
       "    <tr>\n",
       "      <td>56</td>\n",
       "      <td>0.0</td>\n",
       "      <td>güzel bir saz bu fiyata bu sazı dışarda bulama...</td>\n",
       "    </tr>\n",
       "    <tr>\n",
       "      <td>60</td>\n",
       "      <td>0.0</td>\n",
       "      <td>Beget'i desen dandik,calisma pedi dandik, ayak...</td>\n",
       "    </tr>\n",
       "    <tr>\n",
       "      <td>...</td>\n",
       "      <td>...</td>\n",
       "      <td>...</td>\n",
       "    </tr>\n",
       "    <tr>\n",
       "      <td>31159</td>\n",
       "      <td>0.0</td>\n",
       "      <td>guzel fakat fazla uzaktan cekım yapmıyor ev ıc...</td>\n",
       "    </tr>\n",
       "    <tr>\n",
       "      <td>31180</td>\n",
       "      <td>0.0</td>\n",
       "      <td>Ben yıllarca oynadım çocuğum da oynasın diyere...</td>\n",
       "    </tr>\n",
       "    <tr>\n",
       "      <td>31206</td>\n",
       "      <td>0.0</td>\n",
       "      <td>Monolpoly dijital almıştım. Kargoda kutusu ezi...</td>\n",
       "    </tr>\n",
       "    <tr>\n",
       "      <td>31217</td>\n",
       "      <td>0.0</td>\n",
       "      <td>Ford fiesta aracımda kullanmak için aldım hic ...</td>\n",
       "    </tr>\n",
       "    <tr>\n",
       "      <td>31235</td>\n",
       "      <td>0.0</td>\n",
       "      <td>Havalandırmak çok zor havalandırdıktan sonra y...</td>\n",
       "    </tr>\n",
       "  </tbody>\n",
       "</table>\n",
       "<p>1981 rows × 2 columns</p>\n",
       "</div>"
      ],
      "text/plain": [
       "       Puan                                              Yorum\n",
       "9       0.0  herkesin kitap yazmaması gerektiğinin güzel bi...\n",
       "47      0.0  Aşırı ufak, yılbaşı hediyesi için öğretmenleri...\n",
       "49      0.0  kitapta bir hikaye basit bir anlatım seviye or...\n",
       "56      0.0  güzel bir saz bu fiyata bu sazı dışarda bulama...\n",
       "60      0.0  Beget'i desen dandik,calisma pedi dandik, ayak...\n",
       "...     ...                                                ...\n",
       "31159   0.0  guzel fakat fazla uzaktan cekım yapmıyor ev ıc...\n",
       "31180   0.0  Ben yıllarca oynadım çocuğum da oynasın diyere...\n",
       "31206   0.0  Monolpoly dijital almıştım. Kargoda kutusu ezi...\n",
       "31217   0.0  Ford fiesta aracımda kullanmak için aldım hic ...\n",
       "31235   0.0  Havalandırmak çok zor havalandırdıktan sonra y...\n",
       "\n",
       "[1981 rows x 2 columns]"
      ]
     },
     "execution_count": 20,
     "metadata": {},
     "output_type": "execute_result"
    }
   ],
   "source": [
    "df_0"
   ]
  },
  {
   "cell_type": "code",
   "execution_count": 21,
   "metadata": {},
   "outputs": [],
   "source": [
    "df = pd.concat([df_0, df_1], ignore_index = True)"
   ]
  },
  {
   "cell_type": "code",
   "execution_count": 22,
   "metadata": {},
   "outputs": [
    {
     "data": {
      "text/html": [
       "<div>\n",
       "<style scoped>\n",
       "    .dataframe tbody tr th:only-of-type {\n",
       "        vertical-align: middle;\n",
       "    }\n",
       "\n",
       "    .dataframe tbody tr th {\n",
       "        vertical-align: top;\n",
       "    }\n",
       "\n",
       "    .dataframe thead th {\n",
       "        text-align: right;\n",
       "    }\n",
       "</style>\n",
       "<table border=\"1\" class=\"dataframe\">\n",
       "  <thead>\n",
       "    <tr style=\"text-align: right;\">\n",
       "      <th></th>\n",
       "      <th>Puan</th>\n",
       "      <th>Yorum</th>\n",
       "    </tr>\n",
       "  </thead>\n",
       "  <tbody>\n",
       "    <tr>\n",
       "      <td>0</td>\n",
       "      <td>0.0</td>\n",
       "      <td>herkesin kitap yazmaması gerektiğinin güzel bi...</td>\n",
       "    </tr>\n",
       "    <tr>\n",
       "      <td>1</td>\n",
       "      <td>0.0</td>\n",
       "      <td>Aşırı ufak, yılbaşı hediyesi için öğretmenleri...</td>\n",
       "    </tr>\n",
       "    <tr>\n",
       "      <td>2</td>\n",
       "      <td>0.0</td>\n",
       "      <td>kitapta bir hikaye basit bir anlatım seviye or...</td>\n",
       "    </tr>\n",
       "    <tr>\n",
       "      <td>3</td>\n",
       "      <td>0.0</td>\n",
       "      <td>güzel bir saz bu fiyata bu sazı dışarda bulama...</td>\n",
       "    </tr>\n",
       "    <tr>\n",
       "      <td>4</td>\n",
       "      <td>0.0</td>\n",
       "      <td>Beget'i desen dandik,calisma pedi dandik, ayak...</td>\n",
       "    </tr>\n",
       "    <tr>\n",
       "      <td>...</td>\n",
       "      <td>...</td>\n",
       "      <td>...</td>\n",
       "    </tr>\n",
       "    <tr>\n",
       "      <td>28978</td>\n",
       "      <td>1.0</td>\n",
       "      <td>Hızlı gönderim için teşekkürler.</td>\n",
       "    </tr>\n",
       "    <tr>\n",
       "      <td>28979</td>\n",
       "      <td>1.0</td>\n",
       "      <td>Olumsuz yorum yapan arkadasları anlamıyorum. B...</td>\n",
       "    </tr>\n",
       "    <tr>\n",
       "      <td>28980</td>\n",
       "      <td>1.0</td>\n",
       "      <td>Kaliteli zaman geçirilecek çalışma kitabı</td>\n",
       "    </tr>\n",
       "    <tr>\n",
       "      <td>28981</td>\n",
       "      <td>1.0</td>\n",
       "      <td>yapıştırıcı desteği ve eksik parça desteği olm...</td>\n",
       "    </tr>\n",
       "    <tr>\n",
       "      <td>28982</td>\n",
       "      <td>1.0</td>\n",
       "      <td>KİTABI ŞUAN OKUYORUM VE BİTİRMEK ÜZEREYİM. SÜR...</td>\n",
       "    </tr>\n",
       "  </tbody>\n",
       "</table>\n",
       "<p>28983 rows × 2 columns</p>\n",
       "</div>"
      ],
      "text/plain": [
       "       Puan                                              Yorum\n",
       "0       0.0  herkesin kitap yazmaması gerektiğinin güzel bi...\n",
       "1       0.0  Aşırı ufak, yılbaşı hediyesi için öğretmenleri...\n",
       "2       0.0  kitapta bir hikaye basit bir anlatım seviye or...\n",
       "3       0.0  güzel bir saz bu fiyata bu sazı dışarda bulama...\n",
       "4       0.0  Beget'i desen dandik,calisma pedi dandik, ayak...\n",
       "...     ...                                                ...\n",
       "28978   1.0                   Hızlı gönderim için teşekkürler.\n",
       "28979   1.0  Olumsuz yorum yapan arkadasları anlamıyorum. B...\n",
       "28980   1.0          Kaliteli zaman geçirilecek çalışma kitabı\n",
       "28981   1.0  yapıştırıcı desteği ve eksik parça desteği olm...\n",
       "28982   1.0  KİTABI ŞUAN OKUYORUM VE BİTİRMEK ÜZEREYİM. SÜR...\n",
       "\n",
       "[28983 rows x 2 columns]"
      ]
     },
     "execution_count": 22,
     "metadata": {},
     "output_type": "execute_result"
    }
   ],
   "source": [
    "df"
   ]
  },
  {
   "cell_type": "code",
   "execution_count": 29,
   "metadata": {},
   "outputs": [],
   "source": [
    "df = shuffle(df)"
   ]
  },
  {
   "cell_type": "code",
   "execution_count": 30,
   "metadata": {},
   "outputs": [
    {
     "data": {
      "text/html": [
       "<div>\n",
       "<style scoped>\n",
       "    .dataframe tbody tr th:only-of-type {\n",
       "        vertical-align: middle;\n",
       "    }\n",
       "\n",
       "    .dataframe tbody tr th {\n",
       "        vertical-align: top;\n",
       "    }\n",
       "\n",
       "    .dataframe thead th {\n",
       "        text-align: right;\n",
       "    }\n",
       "</style>\n",
       "<table border=\"1\" class=\"dataframe\">\n",
       "  <thead>\n",
       "    <tr style=\"text-align: right;\">\n",
       "      <th></th>\n",
       "      <th>Puan</th>\n",
       "      <th>Yorum</th>\n",
       "    </tr>\n",
       "  </thead>\n",
       "  <tbody>\n",
       "    <tr>\n",
       "      <td>4396</td>\n",
       "      <td>1.0</td>\n",
       "      <td>Hızlı ve özenli kargo bu fiyata gayet iyi bir ...</td>\n",
       "    </tr>\n",
       "    <tr>\n",
       "      <td>14451</td>\n",
       "      <td>1.0</td>\n",
       "      <td>Harika bir kitqp,şiddetle tavsiye??</td>\n",
       "    </tr>\n",
       "    <tr>\n",
       "      <td>18469</td>\n",
       "      <td>1.0</td>\n",
       "      <td>Şahane bir plak ! Mermer baskısı o kadar şık o...</td>\n",
       "    </tr>\n",
       "    <tr>\n",
       "      <td>26451</td>\n",
       "      <td>1.0</td>\n",
       "      <td>İnanılmaz keyifli bir oyun. Hem heyecan hem ke...</td>\n",
       "    </tr>\n",
       "    <tr>\n",
       "      <td>8394</td>\n",
       "      <td>1.0</td>\n",
       "      <td>Alısverışten çok memnun kaldım eksıksız. Ç sor...</td>\n",
       "    </tr>\n",
       "    <tr>\n",
       "      <td>...</td>\n",
       "      <td>...</td>\n",
       "      <td>...</td>\n",
       "    </tr>\n",
       "    <tr>\n",
       "      <td>24535</td>\n",
       "      <td>1.0</td>\n",
       "      <td>yer kısıtı olanlar için çok kullanışlı bir ürü...</td>\n",
       "    </tr>\n",
       "    <tr>\n",
       "      <td>1111</td>\n",
       "      <td>0.0</td>\n",
       "      <td>içi boş bir kitap her sayfa birbirinden alakas...</td>\n",
       "    </tr>\n",
       "    <tr>\n",
       "      <td>24589</td>\n",
       "      <td>1.0</td>\n",
       "      <td>uygun fiyat</td>\n",
       "    </tr>\n",
       "    <tr>\n",
       "      <td>5473</td>\n",
       "      <td>1.0</td>\n",
       "      <td>Ürün elime ulaştı. Henüz okumadım ama firma ge...</td>\n",
       "    </tr>\n",
       "    <tr>\n",
       "      <td>1532</td>\n",
       "      <td>0.0</td>\n",
       "      <td>Klasik Türk filmi. Türkan Şoray ,Ediz Hun aşkı...</td>\n",
       "    </tr>\n",
       "  </tbody>\n",
       "</table>\n",
       "<p>28983 rows × 2 columns</p>\n",
       "</div>"
      ],
      "text/plain": [
       "       Puan                                              Yorum\n",
       "4396    1.0  Hızlı ve özenli kargo bu fiyata gayet iyi bir ...\n",
       "14451   1.0                Harika bir kitqp,şiddetle tavsiye??\n",
       "18469   1.0  Şahane bir plak ! Mermer baskısı o kadar şık o...\n",
       "26451   1.0  İnanılmaz keyifli bir oyun. Hem heyecan hem ke...\n",
       "8394    1.0  Alısverışten çok memnun kaldım eksıksız. Ç sor...\n",
       "...     ...                                                ...\n",
       "24535   1.0  yer kısıtı olanlar için çok kullanışlı bir ürü...\n",
       "1111    0.0  içi boş bir kitap her sayfa birbirinden alakas...\n",
       "24589   1.0                                        uygun fiyat\n",
       "5473    1.0  Ürün elime ulaştı. Henüz okumadım ama firma ge...\n",
       "1532    0.0  Klasik Türk filmi. Türkan Şoray ,Ediz Hun aşkı...\n",
       "\n",
       "[28983 rows x 2 columns]"
      ]
     },
     "execution_count": 30,
     "metadata": {},
     "output_type": "execute_result"
    }
   ],
   "source": [
    "df"
   ]
  },
  {
   "cell_type": "code",
   "execution_count": 31,
   "metadata": {},
   "outputs": [],
   "source": [
    "df.to_csv(\"yorumlar.csv\", sep = \"\\t\", encoding = \"utf-8\", index = False)"
   ]
  },
  {
   "cell_type": "code",
   "execution_count": null,
   "metadata": {},
   "outputs": [],
   "source": []
  }
 ],
 "metadata": {
  "kernelspec": {
   "display_name": "Python 3",
   "language": "python",
   "name": "python3"
  },
  "language_info": {
   "codemirror_mode": {
    "name": "ipython",
    "version": 3
   },
   "file_extension": ".py",
   "mimetype": "text/x-python",
   "name": "python",
   "nbconvert_exporter": "python",
   "pygments_lexer": "ipython3",
   "version": "3.7.4"
  }
 },
 "nbformat": 4,
 "nbformat_minor": 4
}
